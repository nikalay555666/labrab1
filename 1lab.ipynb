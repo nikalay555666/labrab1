{
 "cells": [
  {
   "cell_type": "code",
   "execution_count": 1,
   "metadata": {
    "id": "NX7jjI8uWd5C"
   },
   "outputs": [],
   "source": [
    "\n",
    "import pandas as pd\n",
    "import numpy as np\n",
    "import matplotlib.pyplot as plt\n",
    "import seaborn as sns\n",
    "sns.set()"
   ]
  },
  {
   "cell_type": "code",
   "execution_count": 2,
   "metadata": {
    "id": "uFN3TV2zWrOI"
   },
   "outputs": [],
   "source": [
    "train = pd.read_csv('E:/secondary_data.csv', delimiter=';')"
   ]
  },
  {
   "cell_type": "code",
   "execution_count": 3,
   "metadata": {
    "colab": {
     "base_uri": "https://localhost:8080/",
     "height": 270
    },
    "id": "bZ2_W5onYGGp",
    "outputId": "11e6b386-ed5b-4007-8862-1df757981692"
   },
   "outputs": [
    {
     "data": {
      "text/html": [
       "<div>\n",
       "<style scoped>\n",
       "    .dataframe tbody tr th:only-of-type {\n",
       "        vertical-align: middle;\n",
       "    }\n",
       "\n",
       "    .dataframe tbody tr th {\n",
       "        vertical-align: top;\n",
       "    }\n",
       "\n",
       "    .dataframe thead th {\n",
       "        text-align: right;\n",
       "    }\n",
       "</style>\n",
       "<table border=\"1\" class=\"dataframe\">\n",
       "  <thead>\n",
       "    <tr style=\"text-align: right;\">\n",
       "      <th></th>\n",
       "      <th>class</th>\n",
       "      <th>cap-diameter</th>\n",
       "      <th>cap-shape</th>\n",
       "      <th>cap-surface</th>\n",
       "      <th>cap-color</th>\n",
       "      <th>does-bruise-or-bleed</th>\n",
       "      <th>gill-attachment</th>\n",
       "      <th>gill-spacing</th>\n",
       "      <th>gill-color</th>\n",
       "      <th>stem-height</th>\n",
       "      <th>...</th>\n",
       "      <th>stem-root</th>\n",
       "      <th>stem-surface</th>\n",
       "      <th>stem-color</th>\n",
       "      <th>veil-type</th>\n",
       "      <th>veil-color</th>\n",
       "      <th>has-ring</th>\n",
       "      <th>ring-type</th>\n",
       "      <th>spore-print-color</th>\n",
       "      <th>habitat</th>\n",
       "      <th>season</th>\n",
       "    </tr>\n",
       "  </thead>\n",
       "  <tbody>\n",
       "    <tr>\n",
       "      <th>0</th>\n",
       "      <td>p</td>\n",
       "      <td>15.26</td>\n",
       "      <td>x</td>\n",
       "      <td>g</td>\n",
       "      <td>o</td>\n",
       "      <td>f</td>\n",
       "      <td>e</td>\n",
       "      <td>NaN</td>\n",
       "      <td>w</td>\n",
       "      <td>16.95</td>\n",
       "      <td>...</td>\n",
       "      <td>s</td>\n",
       "      <td>y</td>\n",
       "      <td>w</td>\n",
       "      <td>u</td>\n",
       "      <td>w</td>\n",
       "      <td>t</td>\n",
       "      <td>g</td>\n",
       "      <td>NaN</td>\n",
       "      <td>d</td>\n",
       "      <td>w</td>\n",
       "    </tr>\n",
       "    <tr>\n",
       "      <th>1</th>\n",
       "      <td>p</td>\n",
       "      <td>16.60</td>\n",
       "      <td>x</td>\n",
       "      <td>g</td>\n",
       "      <td>o</td>\n",
       "      <td>f</td>\n",
       "      <td>e</td>\n",
       "      <td>NaN</td>\n",
       "      <td>w</td>\n",
       "      <td>17.99</td>\n",
       "      <td>...</td>\n",
       "      <td>s</td>\n",
       "      <td>y</td>\n",
       "      <td>w</td>\n",
       "      <td>u</td>\n",
       "      <td>w</td>\n",
       "      <td>t</td>\n",
       "      <td>g</td>\n",
       "      <td>NaN</td>\n",
       "      <td>d</td>\n",
       "      <td>u</td>\n",
       "    </tr>\n",
       "    <tr>\n",
       "      <th>2</th>\n",
       "      <td>p</td>\n",
       "      <td>14.07</td>\n",
       "      <td>x</td>\n",
       "      <td>g</td>\n",
       "      <td>o</td>\n",
       "      <td>f</td>\n",
       "      <td>e</td>\n",
       "      <td>NaN</td>\n",
       "      <td>w</td>\n",
       "      <td>17.80</td>\n",
       "      <td>...</td>\n",
       "      <td>s</td>\n",
       "      <td>y</td>\n",
       "      <td>w</td>\n",
       "      <td>u</td>\n",
       "      <td>w</td>\n",
       "      <td>t</td>\n",
       "      <td>g</td>\n",
       "      <td>NaN</td>\n",
       "      <td>d</td>\n",
       "      <td>w</td>\n",
       "    </tr>\n",
       "    <tr>\n",
       "      <th>3</th>\n",
       "      <td>p</td>\n",
       "      <td>14.17</td>\n",
       "      <td>f</td>\n",
       "      <td>h</td>\n",
       "      <td>e</td>\n",
       "      <td>f</td>\n",
       "      <td>e</td>\n",
       "      <td>NaN</td>\n",
       "      <td>w</td>\n",
       "      <td>15.77</td>\n",
       "      <td>...</td>\n",
       "      <td>s</td>\n",
       "      <td>y</td>\n",
       "      <td>w</td>\n",
       "      <td>u</td>\n",
       "      <td>w</td>\n",
       "      <td>t</td>\n",
       "      <td>p</td>\n",
       "      <td>NaN</td>\n",
       "      <td>d</td>\n",
       "      <td>w</td>\n",
       "    </tr>\n",
       "    <tr>\n",
       "      <th>4</th>\n",
       "      <td>p</td>\n",
       "      <td>14.64</td>\n",
       "      <td>x</td>\n",
       "      <td>h</td>\n",
       "      <td>o</td>\n",
       "      <td>f</td>\n",
       "      <td>e</td>\n",
       "      <td>NaN</td>\n",
       "      <td>w</td>\n",
       "      <td>16.53</td>\n",
       "      <td>...</td>\n",
       "      <td>s</td>\n",
       "      <td>y</td>\n",
       "      <td>w</td>\n",
       "      <td>u</td>\n",
       "      <td>w</td>\n",
       "      <td>t</td>\n",
       "      <td>p</td>\n",
       "      <td>NaN</td>\n",
       "      <td>d</td>\n",
       "      <td>w</td>\n",
       "    </tr>\n",
       "  </tbody>\n",
       "</table>\n",
       "<p>5 rows × 21 columns</p>\n",
       "</div>"
      ],
      "text/plain": [
       "  class  cap-diameter cap-shape cap-surface cap-color does-bruise-or-bleed  \\\n",
       "0     p         15.26         x           g         o                    f   \n",
       "1     p         16.60         x           g         o                    f   \n",
       "2     p         14.07         x           g         o                    f   \n",
       "3     p         14.17         f           h         e                    f   \n",
       "4     p         14.64         x           h         o                    f   \n",
       "\n",
       "  gill-attachment gill-spacing gill-color  stem-height  ...  stem-root  \\\n",
       "0               e          NaN          w        16.95  ...          s   \n",
       "1               e          NaN          w        17.99  ...          s   \n",
       "2               e          NaN          w        17.80  ...          s   \n",
       "3               e          NaN          w        15.77  ...          s   \n",
       "4               e          NaN          w        16.53  ...          s   \n",
       "\n",
       "  stem-surface stem-color veil-type veil-color has-ring ring-type  \\\n",
       "0            y          w         u          w        t         g   \n",
       "1            y          w         u          w        t         g   \n",
       "2            y          w         u          w        t         g   \n",
       "3            y          w         u          w        t         p   \n",
       "4            y          w         u          w        t         p   \n",
       "\n",
       "  spore-print-color habitat season  \n",
       "0               NaN       d      w  \n",
       "1               NaN       d      u  \n",
       "2               NaN       d      w  \n",
       "3               NaN       d      w  \n",
       "4               NaN       d      w  \n",
       "\n",
       "[5 rows x 21 columns]"
      ]
     },
     "execution_count": 3,
     "metadata": {},
     "output_type": "execute_result"
    }
   ],
   "source": [
    "train.head() #Вывод первых 5 строк"
   ]
  },
  {
   "cell_type": "markdown",
   "metadata": {},
   "source": [
    "Этот набор данных включает 61069 гипотетических грибов со шляпками на основе 173 видов (353 гриба\n",
    "за вид). Каждый гриб определяется как определенно съедобный, определенно ядовитый или\n",
    "неизвестен в пищевом отношении и не рекомендуется (последний класс был объединен с ядовитым классом).\n",
    "Описание полей:\n",
    "\n",
    "1.Класс: edible(съедобный)=e, \n",
    "poisonous(ядовитый)=p - также содержит грибы неизвестной съедобности.\n",
    "Двадцать оставшихся переменных (n,N: номинальные ( значения, которые представляют категории без естественного упорядочения), м: метрические (количественное значение, которое можно измерить.))\n",
    "2.Диаметр колпачка (м): число поплавков в см\n",
    "3. Форма шапки (n): колокольчик = b, конический = c, выпуклый = x, плоский = f,\n",
    "затонувшие=s, сферические=p, прочие=o\n",
    "4. Поверхность крышки (N): волокнистая=i, бороздчатая=g, чешуйчатая=y, гладкая=s,\n",
    "блестящий=h, кожистый=l, шелковистый=k, липкий=t,\n",
    "морщинистый=w, мясистый=e\n",
    "5. Цвет шапки (N): коричневый=n, охристый=b, серый=g, зеленый=r, розовый=p,\n",
    "фиолетовый = u, красный = e, белый = w, желтый = y, синий = l,\n",
    "оранжевый=o, черный=k\n",
    "6. Кровоточите ли ушибы (n): синяки=t или кровотечение=f\n",
    "7. Жаберная насадка (N): приросший=a, прикрепленный=x, понижающийся ток=d, свободный=e,\n",
    "извилистый=s, pores=p, никто=f, неизвестный=?\n",
    "8. Расстояние между жабрами (n): закрывать=c, надменный=d, никто=f\n",
    "9. цвет жабр (n): цвет колпачка + никто=f\n",
    "10. Высота форштевня (м): число поплавков в см\n",
    "11. Ширина форштевня (м): число поплавков в мм\n",
    "12. Корневой корень (N): луковичный=b, вздутый=s, булава=c, чашка=u, равно=e,\n",
    "ризоморфы=z, укорененные=r\n",
    "13. Поверхность стебля (n): см. поверхность крышки + нет = f\n",
    "14. Цвет стебля (n): см. цвет шапки + нет=f\n",
    "15. Тип вуали (N): частичный=p, универсальный=u\n",
    "16. Цвет-вуаль (n): см. цвет шапки + нет=f\n",
    "17. Имеет-кольцо(n): кольцо=t, нет=f\n",
    "18. Тип кольца (N): покрытый паутиной=c, мимолетный=e, падающий=r, рифленый=g,\n",
    "большой=l, подвесной=p, обшивка=s, зона=z, чешуйчатый=y, подвижный=m, нет=f, неизвестный=?\n",
    "19. Споровый принт-цветной (n): см. цвет крышки\n",
    "20. Среда обитания (N): травы = g, листья = l, луга = m, тропинки = p, вересковые пустоши = h,\n",
    "городской=u, отходы=w, леса=d\n",
    "21. Сезон (N): весна=s, лето=u, осень=a, зима=w\n"
   ]
  },
  {
   "cell_type": "markdown",
   "metadata": {},
   "source": [
    "#Статистическая информация о наборе данных#"
   ]
  },
  {
   "cell_type": "code",
   "execution_count": 4,
   "metadata": {
    "colab": {
     "base_uri": "https://localhost:8080/",
     "height": 300
    },
    "id": "3KjExZSsY7Gw",
    "outputId": "db342381-bafb-44fb-a6ff-9252b9b1c0bc"
   },
   "outputs": [
    {
     "data": {
      "text/html": [
       "<div>\n",
       "<style scoped>\n",
       "    .dataframe tbody tr th:only-of-type {\n",
       "        vertical-align: middle;\n",
       "    }\n",
       "\n",
       "    .dataframe tbody tr th {\n",
       "        vertical-align: top;\n",
       "    }\n",
       "\n",
       "    .dataframe thead th {\n",
       "        text-align: right;\n",
       "    }\n",
       "</style>\n",
       "<table border=\"1\" class=\"dataframe\">\n",
       "  <thead>\n",
       "    <tr style=\"text-align: right;\">\n",
       "      <th></th>\n",
       "      <th>cap-diameter</th>\n",
       "      <th>stem-height</th>\n",
       "      <th>stem-width</th>\n",
       "    </tr>\n",
       "  </thead>\n",
       "  <tbody>\n",
       "    <tr>\n",
       "      <th>count</th>\n",
       "      <td>61069.000000</td>\n",
       "      <td>61069.000000</td>\n",
       "      <td>61069.000000</td>\n",
       "    </tr>\n",
       "    <tr>\n",
       "      <th>mean</th>\n",
       "      <td>6.733854</td>\n",
       "      <td>6.581538</td>\n",
       "      <td>12.149410</td>\n",
       "    </tr>\n",
       "    <tr>\n",
       "      <th>std</th>\n",
       "      <td>5.264845</td>\n",
       "      <td>3.370017</td>\n",
       "      <td>10.035955</td>\n",
       "    </tr>\n",
       "    <tr>\n",
       "      <th>min</th>\n",
       "      <td>0.380000</td>\n",
       "      <td>0.000000</td>\n",
       "      <td>0.000000</td>\n",
       "    </tr>\n",
       "    <tr>\n",
       "      <th>25%</th>\n",
       "      <td>3.480000</td>\n",
       "      <td>4.640000</td>\n",
       "      <td>5.210000</td>\n",
       "    </tr>\n",
       "    <tr>\n",
       "      <th>50%</th>\n",
       "      <td>5.860000</td>\n",
       "      <td>5.950000</td>\n",
       "      <td>10.190000</td>\n",
       "    </tr>\n",
       "    <tr>\n",
       "      <th>75%</th>\n",
       "      <td>8.540000</td>\n",
       "      <td>7.740000</td>\n",
       "      <td>16.570000</td>\n",
       "    </tr>\n",
       "    <tr>\n",
       "      <th>max</th>\n",
       "      <td>62.340000</td>\n",
       "      <td>33.920000</td>\n",
       "      <td>103.910000</td>\n",
       "    </tr>\n",
       "  </tbody>\n",
       "</table>\n",
       "</div>"
      ],
      "text/plain": [
       "       cap-diameter   stem-height    stem-width\n",
       "count  61069.000000  61069.000000  61069.000000\n",
       "mean       6.733854      6.581538     12.149410\n",
       "std        5.264845      3.370017     10.035955\n",
       "min        0.380000      0.000000      0.000000\n",
       "25%        3.480000      4.640000      5.210000\n",
       "50%        5.860000      5.950000     10.190000\n",
       "75%        8.540000      7.740000     16.570000\n",
       "max       62.340000     33.920000    103.910000"
      ]
     },
     "execution_count": 4,
     "metadata": {},
     "output_type": "execute_result"
    }
   ],
   "source": [
    "train.describe() #колличественные признаки"
   ]
  },
  {
   "cell_type": "code",
   "execution_count": 5,
   "metadata": {
    "colab": {
     "base_uri": "https://localhost:8080/",
     "height": 210
    },
    "id": "K9OEntCHaBf4",
    "outputId": "20ee85b8-78d5-4cb6-d15f-8ed6c75bfde1"
   },
   "outputs": [
    {
     "data": {
      "text/html": [
       "<div>\n",
       "<style scoped>\n",
       "    .dataframe tbody tr th:only-of-type {\n",
       "        vertical-align: middle;\n",
       "    }\n",
       "\n",
       "    .dataframe tbody tr th {\n",
       "        vertical-align: top;\n",
       "    }\n",
       "\n",
       "    .dataframe thead th {\n",
       "        text-align: right;\n",
       "    }\n",
       "</style>\n",
       "<table border=\"1\" class=\"dataframe\">\n",
       "  <thead>\n",
       "    <tr style=\"text-align: right;\">\n",
       "      <th></th>\n",
       "      <th>class</th>\n",
       "      <th>cap-shape</th>\n",
       "      <th>cap-surface</th>\n",
       "      <th>cap-color</th>\n",
       "      <th>does-bruise-or-bleed</th>\n",
       "      <th>gill-attachment</th>\n",
       "      <th>gill-spacing</th>\n",
       "      <th>gill-color</th>\n",
       "      <th>stem-root</th>\n",
       "      <th>stem-surface</th>\n",
       "      <th>stem-color</th>\n",
       "      <th>veil-type</th>\n",
       "      <th>veil-color</th>\n",
       "      <th>has-ring</th>\n",
       "      <th>ring-type</th>\n",
       "      <th>spore-print-color</th>\n",
       "      <th>habitat</th>\n",
       "      <th>season</th>\n",
       "    </tr>\n",
       "  </thead>\n",
       "  <tbody>\n",
       "    <tr>\n",
       "      <th>count</th>\n",
       "      <td>61069</td>\n",
       "      <td>61069</td>\n",
       "      <td>46949</td>\n",
       "      <td>61069</td>\n",
       "      <td>61069</td>\n",
       "      <td>51185</td>\n",
       "      <td>36006</td>\n",
       "      <td>61069</td>\n",
       "      <td>9531</td>\n",
       "      <td>22945</td>\n",
       "      <td>61069</td>\n",
       "      <td>3177</td>\n",
       "      <td>7413</td>\n",
       "      <td>61069</td>\n",
       "      <td>58598</td>\n",
       "      <td>6354</td>\n",
       "      <td>61069</td>\n",
       "      <td>61069</td>\n",
       "    </tr>\n",
       "    <tr>\n",
       "      <th>unique</th>\n",
       "      <td>2</td>\n",
       "      <td>7</td>\n",
       "      <td>11</td>\n",
       "      <td>12</td>\n",
       "      <td>2</td>\n",
       "      <td>7</td>\n",
       "      <td>3</td>\n",
       "      <td>12</td>\n",
       "      <td>5</td>\n",
       "      <td>8</td>\n",
       "      <td>13</td>\n",
       "      <td>1</td>\n",
       "      <td>6</td>\n",
       "      <td>2</td>\n",
       "      <td>8</td>\n",
       "      <td>7</td>\n",
       "      <td>8</td>\n",
       "      <td>4</td>\n",
       "    </tr>\n",
       "    <tr>\n",
       "      <th>top</th>\n",
       "      <td>p</td>\n",
       "      <td>x</td>\n",
       "      <td>t</td>\n",
       "      <td>n</td>\n",
       "      <td>f</td>\n",
       "      <td>a</td>\n",
       "      <td>c</td>\n",
       "      <td>w</td>\n",
       "      <td>s</td>\n",
       "      <td>s</td>\n",
       "      <td>w</td>\n",
       "      <td>u</td>\n",
       "      <td>w</td>\n",
       "      <td>f</td>\n",
       "      <td>f</td>\n",
       "      <td>k</td>\n",
       "      <td>d</td>\n",
       "      <td>a</td>\n",
       "    </tr>\n",
       "    <tr>\n",
       "      <th>freq</th>\n",
       "      <td>33888</td>\n",
       "      <td>26934</td>\n",
       "      <td>8196</td>\n",
       "      <td>24218</td>\n",
       "      <td>50479</td>\n",
       "      <td>12698</td>\n",
       "      <td>24710</td>\n",
       "      <td>18521</td>\n",
       "      <td>3177</td>\n",
       "      <td>6025</td>\n",
       "      <td>22926</td>\n",
       "      <td>3177</td>\n",
       "      <td>5474</td>\n",
       "      <td>45890</td>\n",
       "      <td>48361</td>\n",
       "      <td>2118</td>\n",
       "      <td>44209</td>\n",
       "      <td>30177</td>\n",
       "    </tr>\n",
       "  </tbody>\n",
       "</table>\n",
       "</div>"
      ],
      "text/plain": [
       "        class cap-shape cap-surface cap-color does-bruise-or-bleed  \\\n",
       "count   61069     61069       46949     61069                61069   \n",
       "unique      2         7          11        12                    2   \n",
       "top         p         x           t         n                    f   \n",
       "freq    33888     26934        8196     24218                50479   \n",
       "\n",
       "       gill-attachment gill-spacing gill-color stem-root stem-surface  \\\n",
       "count            51185        36006      61069      9531        22945   \n",
       "unique               7            3         12         5            8   \n",
       "top                  a            c          w         s            s   \n",
       "freq             12698        24710      18521      3177         6025   \n",
       "\n",
       "       stem-color veil-type veil-color has-ring ring-type spore-print-color  \\\n",
       "count       61069      3177       7413    61069     58598              6354   \n",
       "unique         13         1          6        2         8                 7   \n",
       "top             w         u          w        f         f                 k   \n",
       "freq        22926      3177       5474    45890     48361              2118   \n",
       "\n",
       "       habitat season  \n",
       "count    61069  61069  \n",
       "unique       8      4  \n",
       "top          d      a  \n",
       "freq     44209  30177  "
      ]
     },
     "execution_count": 5,
     "metadata": {},
     "output_type": "execute_result"
    }
   ],
   "source": [
    "train.describe(include=['O']) # Качестввенные признаки"
   ]
  },
  {
   "cell_type": "markdown",
   "metadata": {},
   "source": [
    "count - количество непустых значений. Тип вуалии известно только у 3177-ми гриба, значит этот тип очень редко встречается\n",
    "\n",
    "unique - количество уникальных записей. Больше всего уникальных названий у столбца ЦВЕТ СТЕБЛЯ\n",
    "\n",
    "top - наиболее часто повторяющаяся запись.\n",
    "\n",
    "freq - частота самой частой записи. Эти две строки интересно анализировать вместе. Только у 1 столбца ТИП ВУАЛИИ число самой частой записи совпадает с кол-м значений и уникальный знак 1, значит весь столбец состоит из этого зн-я "
   ]
  },
  {
   "cell_type": "code",
   "execution_count": 6,
   "metadata": {
    "colab": {
     "base_uri": "https://localhost:8080/"
    },
    "id": "qMiG4NvkaE5A",
    "outputId": "415bd0fc-d8dc-4623-b724-5db11c3ff30b"
   },
   "outputs": [
    {
     "name": "stdout",
     "output_type": "stream",
     "text": [
      "Index(['class', 'cap-diameter', 'cap-shape', 'cap-surface', 'cap-color',\n",
      "       'does-bruise-or-bleed', 'gill-attachment', 'gill-spacing', 'gill-color',\n",
      "       'stem-height', 'stem-width', 'stem-root', 'stem-surface', 'stem-color',\n",
      "       'veil-type', 'veil-color', 'has-ring', 'ring-type', 'spore-print-color',\n",
      "       'habitat', 'season'],\n",
      "      dtype='object')\n"
     ]
    }
   ],
   "source": [
    "print(train.columns) #Вывод столбцов"
   ]
  },
  {
   "cell_type": "code",
   "execution_count": 7,
   "metadata": {},
   "outputs": [
    {
     "name": "stdout",
     "output_type": "stream",
     "text": [
      "RangeIndex(start=0, stop=61069, step=1)\n"
     ]
    }
   ],
   "source": [
    "print(train.index) #вывод строк"
   ]
  },
  {
   "cell_type": "code",
   "execution_count": 8,
   "metadata": {},
   "outputs": [
    {
     "name": "stdout",
     "output_type": "stream",
     "text": [
      "<class 'pandas.core.frame.DataFrame'>\n",
      "RangeIndex: 61069 entries, 0 to 61068\n",
      "Data columns (total 21 columns):\n",
      " #   Column                Non-Null Count  Dtype  \n",
      "---  ------                --------------  -----  \n",
      " 0   class                 61069 non-null  object \n",
      " 1   cap-diameter          61069 non-null  float64\n",
      " 2   cap-shape             61069 non-null  object \n",
      " 3   cap-surface           46949 non-null  object \n",
      " 4   cap-color             61069 non-null  object \n",
      " 5   does-bruise-or-bleed  61069 non-null  object \n",
      " 6   gill-attachment       51185 non-null  object \n",
      " 7   gill-spacing          36006 non-null  object \n",
      " 8   gill-color            61069 non-null  object \n",
      " 9   stem-height           61069 non-null  float64\n",
      " 10  stem-width            61069 non-null  float64\n",
      " 11  stem-root             9531 non-null   object \n",
      " 12  stem-surface          22945 non-null  object \n",
      " 13  stem-color            61069 non-null  object \n",
      " 14  veil-type             3177 non-null   object \n",
      " 15  veil-color            7413 non-null   object \n",
      " 16  has-ring              61069 non-null  object \n",
      " 17  ring-type             58598 non-null  object \n",
      " 18  spore-print-color     6354 non-null   object \n",
      " 19  habitat               61069 non-null  object \n",
      " 20  season                61069 non-null  object \n",
      "dtypes: float64(3), object(18)\n",
      "memory usage: 9.8+ MB\n"
     ]
    }
   ],
   "source": [
    "train.info()"
   ]
  },
  {
   "cell_type": "markdown",
   "metadata": {},
   "source": [
    "#Заполнение пропусков#"
   ]
  },
  {
   "cell_type": "code",
   "execution_count": 9,
   "metadata": {},
   "outputs": [
    {
     "data": {
      "text/plain": [
       "class                       0\n",
       "cap-diameter                0\n",
       "cap-shape                   0\n",
       "cap-surface             14120\n",
       "cap-color                   0\n",
       "does-bruise-or-bleed        0\n",
       "gill-attachment          9884\n",
       "gill-spacing            25063\n",
       "gill-color                  0\n",
       "stem-height                 0\n",
       "stem-width                  0\n",
       "stem-root               51538\n",
       "stem-surface            38124\n",
       "stem-color                  0\n",
       "veil-type               57892\n",
       "veil-color              53656\n",
       "has-ring                    0\n",
       "ring-type                2471\n",
       "spore-print-color       54715\n",
       "habitat                     0\n",
       "season                      0\n",
       "dtype: int64"
      ]
     },
     "execution_count": 9,
     "metadata": {},
     "output_type": "execute_result"
    }
   ],
   "source": [
    "train.isnull().sum() # обнаружение недостающих значений"
   ]
  },
  {
   "cell_type": "markdown",
   "metadata": {},
   "source": [
    "Пропущенные значения заменим средним, наиболее популярным значением."
   ]
  },
  {
   "cell_type": "code",
   "execution_count": 10,
   "metadata": {},
   "outputs": [],
   "source": [
    "train['cap-surface'] = train['cap-surface'].fillna(train['cap-surface'].mode().squeeze())\n",
    "train['gill-attachment'] = train['gill-attachment'].fillna(train['gill-attachment'].mode().squeeze())\n",
    "train['gill-spacing'] = train['gill-spacing'].fillna(train['gill-spacing'].mode().squeeze())\n",
    "\n",
    "train['stem-root'] = train['stem-root'].fillna(train['stem-root'].mode().iloc[0])\n",
    "train['stem-surface'] = train['stem-surface'].fillna(train['stem-surface'].mode().squeeze())\n",
    "train['veil-type'] = train['veil-type'].fillna(train['veil-type'].mode().squeeze())\n",
    "\n",
    "train['veil-color'] = train['veil-color'].fillna(train['veil-color'].mode().squeeze())\n",
    "train['ring-type'] = train['ring-type'].fillna(train['ring-type'].mode().squeeze())\n",
    "train['spore-print-color'] = train['spore-print-color'].fillna(train['spore-print-color'].mode().squeeze())"
   ]
  },
  {
   "cell_type": "code",
   "execution_count": 11,
   "metadata": {},
   "outputs": [
    {
     "data": {
      "text/plain": [
       "class                   0\n",
       "cap-diameter            0\n",
       "cap-shape               0\n",
       "cap-surface             0\n",
       "cap-color               0\n",
       "does-bruise-or-bleed    0\n",
       "gill-attachment         0\n",
       "gill-spacing            0\n",
       "gill-color              0\n",
       "stem-height             0\n",
       "stem-width              0\n",
       "stem-root               0\n",
       "stem-surface            0\n",
       "stem-color              0\n",
       "veil-type               0\n",
       "veil-color              0\n",
       "has-ring                0\n",
       "ring-type               0\n",
       "spore-print-color       0\n",
       "habitat                 0\n",
       "season                  0\n",
       "dtype: int64"
      ]
     },
     "execution_count": 11,
     "metadata": {},
     "output_type": "execute_result"
    }
   ],
   "source": [
    "train.isnull().sum()"
   ]
  },
  {
   "cell_type": "markdown",
   "metadata": {},
   "source": [
    "#Замена категориальных зн-й количественными"
   ]
  },
  {
   "cell_type": "code",
   "execution_count": 12,
   "metadata": {},
   "outputs": [
    {
     "name": "stdout",
     "output_type": "stream",
     "text": [
      "class\n",
      "cap-shape\n",
      "cap-surface\n",
      "cap-color\n",
      "does-bruise-or-bleed\n",
      "gill-attachment\n",
      "gill-spacing\n",
      "gill-color\n",
      "stem-root\n",
      "stem-surface\n",
      "stem-color\n",
      "veil-type\n",
      "veil-color\n",
      "has-ring\n",
      "ring-type\n",
      "spore-print-color\n",
      "habitat\n",
      "season\n"
     ]
    }
   ],
   "source": [
    "for col in train.columns: # сколько столбцов категориальные\n",
    "    if train[col].dtype == 'object':\n",
    "        print(col)"
   ]
  },
  {
   "cell_type": "code",
   "execution_count": 13,
   "metadata": {},
   "outputs": [
    {
     "data": {
      "text/html": [
       "<div>\n",
       "<style scoped>\n",
       "    .dataframe tbody tr th:only-of-type {\n",
       "        vertical-align: middle;\n",
       "    }\n",
       "\n",
       "    .dataframe tbody tr th {\n",
       "        vertical-align: top;\n",
       "    }\n",
       "\n",
       "    .dataframe thead th {\n",
       "        text-align: right;\n",
       "    }\n",
       "</style>\n",
       "<table border=\"1\" class=\"dataframe\">\n",
       "  <thead>\n",
       "    <tr style=\"text-align: right;\">\n",
       "      <th></th>\n",
       "      <th>class</th>\n",
       "      <th>cap-diameter</th>\n",
       "      <th>cap-shape</th>\n",
       "      <th>cap-surface</th>\n",
       "      <th>cap-color</th>\n",
       "      <th>does-bruise-or-bleed</th>\n",
       "      <th>gill-attachment</th>\n",
       "      <th>gill-spacing</th>\n",
       "      <th>gill-color</th>\n",
       "      <th>stem-height</th>\n",
       "      <th>...</th>\n",
       "      <th>stem-root</th>\n",
       "      <th>stem-surface</th>\n",
       "      <th>stem-color</th>\n",
       "      <th>veil-type</th>\n",
       "      <th>veil-color</th>\n",
       "      <th>has-ring</th>\n",
       "      <th>ring-type</th>\n",
       "      <th>spore-print-color</th>\n",
       "      <th>habitat</th>\n",
       "      <th>season</th>\n",
       "    </tr>\n",
       "  </thead>\n",
       "  <tbody>\n",
       "    <tr>\n",
       "      <th>0</th>\n",
       "      <td>p</td>\n",
       "      <td>15.26</td>\n",
       "      <td>x</td>\n",
       "      <td>g</td>\n",
       "      <td>o</td>\n",
       "      <td>f</td>\n",
       "      <td>e</td>\n",
       "      <td>c</td>\n",
       "      <td>w</td>\n",
       "      <td>16.95</td>\n",
       "      <td>...</td>\n",
       "      <td>s</td>\n",
       "      <td>y</td>\n",
       "      <td>w</td>\n",
       "      <td>u</td>\n",
       "      <td>w</td>\n",
       "      <td>t</td>\n",
       "      <td>g</td>\n",
       "      <td>k</td>\n",
       "      <td>d</td>\n",
       "      <td>w</td>\n",
       "    </tr>\n",
       "    <tr>\n",
       "      <th>1</th>\n",
       "      <td>p</td>\n",
       "      <td>16.60</td>\n",
       "      <td>x</td>\n",
       "      <td>g</td>\n",
       "      <td>o</td>\n",
       "      <td>f</td>\n",
       "      <td>e</td>\n",
       "      <td>c</td>\n",
       "      <td>w</td>\n",
       "      <td>17.99</td>\n",
       "      <td>...</td>\n",
       "      <td>s</td>\n",
       "      <td>y</td>\n",
       "      <td>w</td>\n",
       "      <td>u</td>\n",
       "      <td>w</td>\n",
       "      <td>t</td>\n",
       "      <td>g</td>\n",
       "      <td>k</td>\n",
       "      <td>d</td>\n",
       "      <td>u</td>\n",
       "    </tr>\n",
       "    <tr>\n",
       "      <th>2</th>\n",
       "      <td>p</td>\n",
       "      <td>14.07</td>\n",
       "      <td>x</td>\n",
       "      <td>g</td>\n",
       "      <td>o</td>\n",
       "      <td>f</td>\n",
       "      <td>e</td>\n",
       "      <td>c</td>\n",
       "      <td>w</td>\n",
       "      <td>17.80</td>\n",
       "      <td>...</td>\n",
       "      <td>s</td>\n",
       "      <td>y</td>\n",
       "      <td>w</td>\n",
       "      <td>u</td>\n",
       "      <td>w</td>\n",
       "      <td>t</td>\n",
       "      <td>g</td>\n",
       "      <td>k</td>\n",
       "      <td>d</td>\n",
       "      <td>w</td>\n",
       "    </tr>\n",
       "    <tr>\n",
       "      <th>3</th>\n",
       "      <td>p</td>\n",
       "      <td>14.17</td>\n",
       "      <td>f</td>\n",
       "      <td>h</td>\n",
       "      <td>e</td>\n",
       "      <td>f</td>\n",
       "      <td>e</td>\n",
       "      <td>c</td>\n",
       "      <td>w</td>\n",
       "      <td>15.77</td>\n",
       "      <td>...</td>\n",
       "      <td>s</td>\n",
       "      <td>y</td>\n",
       "      <td>w</td>\n",
       "      <td>u</td>\n",
       "      <td>w</td>\n",
       "      <td>t</td>\n",
       "      <td>p</td>\n",
       "      <td>k</td>\n",
       "      <td>d</td>\n",
       "      <td>w</td>\n",
       "    </tr>\n",
       "    <tr>\n",
       "      <th>4</th>\n",
       "      <td>p</td>\n",
       "      <td>14.64</td>\n",
       "      <td>x</td>\n",
       "      <td>h</td>\n",
       "      <td>o</td>\n",
       "      <td>f</td>\n",
       "      <td>e</td>\n",
       "      <td>c</td>\n",
       "      <td>w</td>\n",
       "      <td>16.53</td>\n",
       "      <td>...</td>\n",
       "      <td>s</td>\n",
       "      <td>y</td>\n",
       "      <td>w</td>\n",
       "      <td>u</td>\n",
       "      <td>w</td>\n",
       "      <td>t</td>\n",
       "      <td>p</td>\n",
       "      <td>k</td>\n",
       "      <td>d</td>\n",
       "      <td>w</td>\n",
       "    </tr>\n",
       "  </tbody>\n",
       "</table>\n",
       "<p>5 rows × 21 columns</p>\n",
       "</div>"
      ],
      "text/plain": [
       "  class  cap-diameter cap-shape cap-surface cap-color does-bruise-or-bleed  \\\n",
       "0     p         15.26         x           g         o                    f   \n",
       "1     p         16.60         x           g         o                    f   \n",
       "2     p         14.07         x           g         o                    f   \n",
       "3     p         14.17         f           h         e                    f   \n",
       "4     p         14.64         x           h         o                    f   \n",
       "\n",
       "  gill-attachment gill-spacing gill-color  stem-height  ...  stem-root  \\\n",
       "0               e            c          w        16.95  ...          s   \n",
       "1               e            c          w        17.99  ...          s   \n",
       "2               e            c          w        17.80  ...          s   \n",
       "3               e            c          w        15.77  ...          s   \n",
       "4               e            c          w        16.53  ...          s   \n",
       "\n",
       "  stem-surface stem-color veil-type veil-color has-ring ring-type  \\\n",
       "0            y          w         u          w        t         g   \n",
       "1            y          w         u          w        t         g   \n",
       "2            y          w         u          w        t         g   \n",
       "3            y          w         u          w        t         p   \n",
       "4            y          w         u          w        t         p   \n",
       "\n",
       "  spore-print-color habitat season  \n",
       "0                 k       d      w  \n",
       "1                 k       d      u  \n",
       "2                 k       d      w  \n",
       "3                 k       d      w  \n",
       "4                 k       d      w  \n",
       "\n",
       "[5 rows x 21 columns]"
      ]
     },
     "execution_count": 13,
     "metadata": {},
     "output_type": "execute_result"
    }
   ],
   "source": [
    "train.head()"
   ]
  },
  {
   "cell_type": "code",
   "execution_count": 14,
   "metadata": {},
   "outputs": [
    {
     "name": "stdout",
     "output_type": "stream",
     "text": [
      "['p' 'e']\n",
      "['x' 'f' 'p' 'b' 'c' 's' 'o']\n",
      "['g' 'h' 't' 'y' 'e' 's' 'l' 'd' 'w' 'i' 'k']\n",
      "['o' 'e' 'n' 'g' 'r' 'w' 'y' 'p' 'u' 'b' 'l' 'k']\n",
      "['f' 't']\n",
      "['e' 'a' 'd' 's' 'x' 'p' 'f']\n",
      "['c' 'd' 'f']\n",
      "['w' 'n' 'p' 'u' 'b' 'g' 'y' 'r' 'e' 'o' 'k' 'f']\n",
      "['s' 'b' 'r' 'c' 'f']\n",
      "['y' 's' 'k' 'i' 'h' 't' 'g' 'f']\n",
      "['w' 'y' 'n' 'u' 'b' 'l' 'r' 'p' 'e' 'k' 'g' 'o' 'f']\n",
      "['u']\n",
      "['w' 'y' 'n' 'e' 'u' 'k']\n",
      "['t' 'f']\n",
      "['g' 'p' 'e' 'l' 'f' 'm' 'r' 'z']\n",
      "['k' 'w' 'p' 'r' 'u' 'n' 'g']\n",
      "['d' 'm' 'g' 'h' 'l' 'p' 'w' 'u']\n",
      "['w' 'u' 'a' 's']\n"
     ]
    }
   ],
   "source": [
    "print(train['class'].unique()) # Всевозможные варианты класса\n",
    "print(train['cap-shape'].unique()) # Всевозможные варианты класса\n",
    "print(train['cap-surface'].unique()) # Всевозможные варианты класса\n",
    "print(train['cap-color'].unique()) # Всевозможные варианты класса\n",
    "print(train['does-bruise-or-bleed'].unique()) # Всевозможные варианты класса\n",
    "print(train['gill-attachment'].unique()) # Всевозможные варианты класса\n",
    "print(train['gill-spacing'].unique()) # Всевозможные варианты класса\n",
    "print(train['gill-color'].unique()) # Всевозможные варианты класса\n",
    "print(train['stem-root'].unique()) # Всевозможные варианты класса\n",
    "print(train['stem-surface'].unique()) # Всевозможные варианты класса\n",
    "print(train['stem-color'].unique()) # Всевозможные варианты класса\n",
    "print(train['veil-type'].unique()) # Всевозможные варианты класса\n",
    "print(train['veil-color'].unique()) # Всевозможные варианты класса\n",
    "print(train['has-ring'].unique()) # Всевозможные варианты класса\n",
    "print(train['ring-type'].unique()) # Всевозможные варианты класса\n",
    "print(train['spore-print-color'].unique()) # Всевозможные варианты класса\n",
    "print(train['habitat'].unique()) # Всевозможные варианты класса\n",
    "print(train['season'].unique()) # Всевозможные варианты класса"
   ]
  },
  {
   "cell_type": "code",
   "execution_count": 15,
   "metadata": {},
   "outputs": [],
   "source": [
    "\n",
    "def Aa(column,a):\n",
    "  return train[column].replace([a], 0)\n",
    "def Bb(column,a,b):\n",
    "  return train[column].replace([a], 0).replace([b], 1)\n",
    "def Cc(column,a,b,c):\n",
    "  return train[column].replace([a], 0).replace([b], 1).replace([c], 2)\n",
    "def Dd(column,a,b,c,d):\n",
    "  return train[column].replace([a], 0).replace([b], 1).replace([c], 2).replace([d], 3)\n",
    "def Ee(column,a,b,c,d,e):\n",
    "  return train[column].replace([a], 0).replace([b], 1).replace([c], 2).replace([d], 3).replace([e], 4)\n",
    "def Ff(column,a,b,c,d,e,f):\n",
    "  return train[column].replace([a], 0).replace([b], 1).replace([c], 2).replace([d], 3).replace([e], 4).replace([f], 5)\n",
    "def Gg(column,a,b,c,d,e,f,g):\n",
    "  return train[column].replace([a], 0).replace([b], 1).replace([c], 2).replace([d], 3).replace([e], 4).replace([f], 5).replace([g],6)\n",
    "def Hh(column,a,b,c,d,e,f,g,h):\n",
    "  return train[column].replace([a], 0).replace([b], 1).replace([c], 2).replace([d], 3).replace([e], 4).replace([f], 5).replace([g], 6).replace([h],7)\n",
    "def Ii(column,a,b,c,d,e,f,g,h,i):\n",
    "  return train[column].replace([a], 0).replace([b], 1).replace([c], 2).replace([d], 3).replace([e], 4).replace([f], 5).replace([g], 6).replace([h], 7).replace([i],8)\n",
    "def Jj(column,a,b,c,d,e,f,g,h,i,j):\n",
    "  return train[column].replace([a], 0).replace([b], 1).replace([c], 2).replace([d], 3).replace([e], 4).replace([f], 5).replace([g], 6).replace([h], 7).replace([i], 8).replace([j], 9)\n",
    "def Kk(column,a,b,c,d,e,f,g,h,i,j,k):\n",
    "  return train[column].replace([a], 0).replace([b], 1).replace([c], 2).replace([d], 3).replace([e], 4).replace([f], 5).replace([g], 6).replace([h], 7).replace([i], 8).replace([j], 9).replace([k], 10)\n",
    "def Ll(column,a,b,c,d,e,f,g,h,i,j,k,l):\n",
    "  return train[column].replace([a], 0).replace([b], 1).replace([c], 2).replace([d], 3).replace([e], 4).replace([f], 5).replace([g], 6).replace([h], 7).replace([i], 8).replace([j], 9).replace([k], 10).replace([l], 11)\n",
    "def Mm(column,a,b,c,d,e,f,g,h,i,j,k,l,m):\n",
    "  return train[column].replace([a], 0).replace([b], 1).replace([c], 2).replace([d], 3).replace([e], 4).replace([f], 5).replace([g], 6).replace([h], 7).replace([i], 8).replace([j], 9).replace([k], 10).replace([l], 11).replace([m], 12)\n",
    "def Nn(column,a,b,c,d,e,f,g,h,i,j,k,l,m,n):\n",
    "  return train[column].replace([a], 0).replace([b], 1).replace([c], 2).replace([d], 3).replace([e], 4).replace([f], 5).replace([g], 6).replace([h], 7).replace([i], 8).replace([j], 9).replace([k], 10).replace([l], 11).replace([m], 12).replace([n], 13)"
   ]
  },
  {
   "cell_type": "code",
   "execution_count": 16,
   "metadata": {},
   "outputs": [
    {
     "name": "stderr",
     "output_type": "stream",
     "text": [
      "C:\\Users\\User\\AppData\\Local\\Temp\\ipykernel_7404\\2507451308.py:4: FutureWarning: Downcasting behavior in `replace` is deprecated and will be removed in a future version. To retain the old behavior, explicitly call `result.infer_objects(copy=False)`. To opt-in to the future behavior, set `pd.set_option('future.no_silent_downcasting', True)`\n",
      "  return train[column].replace([a], 0).replace([b], 1)\n",
      "C:\\Users\\User\\AppData\\Local\\Temp\\ipykernel_7404\\2507451308.py:14: FutureWarning: Downcasting behavior in `replace` is deprecated and will be removed in a future version. To retain the old behavior, explicitly call `result.infer_objects(copy=False)`. To opt-in to the future behavior, set `pd.set_option('future.no_silent_downcasting', True)`\n",
      "  return train[column].replace([a], 0).replace([b], 1).replace([c], 2).replace([d], 3).replace([e], 4).replace([f], 5).replace([g],6)\n",
      "C:\\Users\\User\\AppData\\Local\\Temp\\ipykernel_7404\\2507451308.py:22: FutureWarning: Downcasting behavior in `replace` is deprecated and will be removed in a future version. To retain the old behavior, explicitly call `result.infer_objects(copy=False)`. To opt-in to the future behavior, set `pd.set_option('future.no_silent_downcasting', True)`\n",
      "  return train[column].replace([a], 0).replace([b], 1).replace([c], 2).replace([d], 3).replace([e], 4).replace([f], 5).replace([g], 6).replace([h], 7).replace([i], 8).replace([j], 9).replace([k], 10)\n",
      "C:\\Users\\User\\AppData\\Local\\Temp\\ipykernel_7404\\2507451308.py:24: FutureWarning: Downcasting behavior in `replace` is deprecated and will be removed in a future version. To retain the old behavior, explicitly call `result.infer_objects(copy=False)`. To opt-in to the future behavior, set `pd.set_option('future.no_silent_downcasting', True)`\n",
      "  return train[column].replace([a], 0).replace([b], 1).replace([c], 2).replace([d], 3).replace([e], 4).replace([f], 5).replace([g], 6).replace([h], 7).replace([i], 8).replace([j], 9).replace([k], 10).replace([l], 11)\n",
      "C:\\Users\\User\\AppData\\Local\\Temp\\ipykernel_7404\\2507451308.py:6: FutureWarning: Downcasting behavior in `replace` is deprecated and will be removed in a future version. To retain the old behavior, explicitly call `result.infer_objects(copy=False)`. To opt-in to the future behavior, set `pd.set_option('future.no_silent_downcasting', True)`\n",
      "  return train[column].replace([a], 0).replace([b], 1).replace([c], 2)\n",
      "C:\\Users\\User\\AppData\\Local\\Temp\\ipykernel_7404\\2507451308.py:10: FutureWarning: Downcasting behavior in `replace` is deprecated and will be removed in a future version. To retain the old behavior, explicitly call `result.infer_objects(copy=False)`. To opt-in to the future behavior, set `pd.set_option('future.no_silent_downcasting', True)`\n",
      "  return train[column].replace([a], 0).replace([b], 1).replace([c], 2).replace([d], 3).replace([e], 4)\n",
      "C:\\Users\\User\\AppData\\Local\\Temp\\ipykernel_7404\\2507451308.py:16: FutureWarning: Downcasting behavior in `replace` is deprecated and will be removed in a future version. To retain the old behavior, explicitly call `result.infer_objects(copy=False)`. To opt-in to the future behavior, set `pd.set_option('future.no_silent_downcasting', True)`\n",
      "  return train[column].replace([a], 0).replace([b], 1).replace([c], 2).replace([d], 3).replace([e], 4).replace([f], 5).replace([g], 6).replace([h],7)\n",
      "C:\\Users\\User\\AppData\\Local\\Temp\\ipykernel_7404\\2507451308.py:26: FutureWarning: Downcasting behavior in `replace` is deprecated and will be removed in a future version. To retain the old behavior, explicitly call `result.infer_objects(copy=False)`. To opt-in to the future behavior, set `pd.set_option('future.no_silent_downcasting', True)`\n",
      "  return train[column].replace([a], 0).replace([b], 1).replace([c], 2).replace([d], 3).replace([e], 4).replace([f], 5).replace([g], 6).replace([h], 7).replace([i], 8).replace([j], 9).replace([k], 10).replace([l], 11).replace([m], 12)\n",
      "C:\\Users\\User\\AppData\\Local\\Temp\\ipykernel_7404\\2507451308.py:2: FutureWarning: Downcasting behavior in `replace` is deprecated and will be removed in a future version. To retain the old behavior, explicitly call `result.infer_objects(copy=False)`. To opt-in to the future behavior, set `pd.set_option('future.no_silent_downcasting', True)`\n",
      "  return train[column].replace([a], 0)\n",
      "C:\\Users\\User\\AppData\\Local\\Temp\\ipykernel_7404\\2507451308.py:12: FutureWarning: Downcasting behavior in `replace` is deprecated and will be removed in a future version. To retain the old behavior, explicitly call `result.infer_objects(copy=False)`. To opt-in to the future behavior, set `pd.set_option('future.no_silent_downcasting', True)`\n",
      "  return train[column].replace([a], 0).replace([b], 1).replace([c], 2).replace([d], 3).replace([e], 4).replace([f], 5)\n",
      "C:\\Users\\User\\AppData\\Local\\Temp\\ipykernel_7404\\2507451308.py:8: FutureWarning: Downcasting behavior in `replace` is deprecated and will be removed in a future version. To retain the old behavior, explicitly call `result.infer_objects(copy=False)`. To opt-in to the future behavior, set `pd.set_option('future.no_silent_downcasting', True)`\n",
      "  return train[column].replace([a], 0).replace([b], 1).replace([c], 2).replace([d], 3)\n"
     ]
    },
    {
     "data": {
      "text/html": [
       "<div>\n",
       "<style scoped>\n",
       "    .dataframe tbody tr th:only-of-type {\n",
       "        vertical-align: middle;\n",
       "    }\n",
       "\n",
       "    .dataframe tbody tr th {\n",
       "        vertical-align: top;\n",
       "    }\n",
       "\n",
       "    .dataframe thead th {\n",
       "        text-align: right;\n",
       "    }\n",
       "</style>\n",
       "<table border=\"1\" class=\"dataframe\">\n",
       "  <thead>\n",
       "    <tr style=\"text-align: right;\">\n",
       "      <th></th>\n",
       "      <th>class</th>\n",
       "      <th>cap-diameter</th>\n",
       "      <th>cap-shape</th>\n",
       "      <th>cap-surface</th>\n",
       "      <th>cap-color</th>\n",
       "      <th>does-bruise-or-bleed</th>\n",
       "      <th>gill-attachment</th>\n",
       "      <th>gill-spacing</th>\n",
       "      <th>gill-color</th>\n",
       "      <th>stem-height</th>\n",
       "      <th>...</th>\n",
       "      <th>stem-root</th>\n",
       "      <th>stem-surface</th>\n",
       "      <th>stem-color</th>\n",
       "      <th>veil-type</th>\n",
       "      <th>veil-color</th>\n",
       "      <th>has-ring</th>\n",
       "      <th>ring-type</th>\n",
       "      <th>spore-print-color</th>\n",
       "      <th>habitat</th>\n",
       "      <th>season</th>\n",
       "    </tr>\n",
       "  </thead>\n",
       "  <tbody>\n",
       "    <tr>\n",
       "      <th>0</th>\n",
       "      <td>0</td>\n",
       "      <td>15.26</td>\n",
       "      <td>0</td>\n",
       "      <td>0</td>\n",
       "      <td>0</td>\n",
       "      <td>0</td>\n",
       "      <td>0</td>\n",
       "      <td>0</td>\n",
       "      <td>0</td>\n",
       "      <td>16.95</td>\n",
       "      <td>...</td>\n",
       "      <td>0</td>\n",
       "      <td>0</td>\n",
       "      <td>0</td>\n",
       "      <td>0</td>\n",
       "      <td>0</td>\n",
       "      <td>0</td>\n",
       "      <td>0</td>\n",
       "      <td>0</td>\n",
       "      <td>0</td>\n",
       "      <td>0</td>\n",
       "    </tr>\n",
       "    <tr>\n",
       "      <th>1</th>\n",
       "      <td>0</td>\n",
       "      <td>16.60</td>\n",
       "      <td>0</td>\n",
       "      <td>0</td>\n",
       "      <td>0</td>\n",
       "      <td>0</td>\n",
       "      <td>0</td>\n",
       "      <td>0</td>\n",
       "      <td>0</td>\n",
       "      <td>17.99</td>\n",
       "      <td>...</td>\n",
       "      <td>0</td>\n",
       "      <td>0</td>\n",
       "      <td>0</td>\n",
       "      <td>0</td>\n",
       "      <td>0</td>\n",
       "      <td>0</td>\n",
       "      <td>0</td>\n",
       "      <td>0</td>\n",
       "      <td>0</td>\n",
       "      <td>1</td>\n",
       "    </tr>\n",
       "    <tr>\n",
       "      <th>2</th>\n",
       "      <td>0</td>\n",
       "      <td>14.07</td>\n",
       "      <td>0</td>\n",
       "      <td>0</td>\n",
       "      <td>0</td>\n",
       "      <td>0</td>\n",
       "      <td>0</td>\n",
       "      <td>0</td>\n",
       "      <td>0</td>\n",
       "      <td>17.80</td>\n",
       "      <td>...</td>\n",
       "      <td>0</td>\n",
       "      <td>0</td>\n",
       "      <td>0</td>\n",
       "      <td>0</td>\n",
       "      <td>0</td>\n",
       "      <td>0</td>\n",
       "      <td>0</td>\n",
       "      <td>0</td>\n",
       "      <td>0</td>\n",
       "      <td>0</td>\n",
       "    </tr>\n",
       "    <tr>\n",
       "      <th>3</th>\n",
       "      <td>0</td>\n",
       "      <td>14.17</td>\n",
       "      <td>1</td>\n",
       "      <td>1</td>\n",
       "      <td>1</td>\n",
       "      <td>0</td>\n",
       "      <td>0</td>\n",
       "      <td>0</td>\n",
       "      <td>0</td>\n",
       "      <td>15.77</td>\n",
       "      <td>...</td>\n",
       "      <td>0</td>\n",
       "      <td>0</td>\n",
       "      <td>0</td>\n",
       "      <td>0</td>\n",
       "      <td>0</td>\n",
       "      <td>0</td>\n",
       "      <td>1</td>\n",
       "      <td>0</td>\n",
       "      <td>0</td>\n",
       "      <td>0</td>\n",
       "    </tr>\n",
       "    <tr>\n",
       "      <th>4</th>\n",
       "      <td>0</td>\n",
       "      <td>14.64</td>\n",
       "      <td>0</td>\n",
       "      <td>1</td>\n",
       "      <td>0</td>\n",
       "      <td>0</td>\n",
       "      <td>0</td>\n",
       "      <td>0</td>\n",
       "      <td>0</td>\n",
       "      <td>16.53</td>\n",
       "      <td>...</td>\n",
       "      <td>0</td>\n",
       "      <td>0</td>\n",
       "      <td>0</td>\n",
       "      <td>0</td>\n",
       "      <td>0</td>\n",
       "      <td>0</td>\n",
       "      <td>1</td>\n",
       "      <td>0</td>\n",
       "      <td>0</td>\n",
       "      <td>0</td>\n",
       "    </tr>\n",
       "    <tr>\n",
       "      <th>5</th>\n",
       "      <td>0</td>\n",
       "      <td>15.34</td>\n",
       "      <td>0</td>\n",
       "      <td>0</td>\n",
       "      <td>0</td>\n",
       "      <td>0</td>\n",
       "      <td>0</td>\n",
       "      <td>0</td>\n",
       "      <td>0</td>\n",
       "      <td>17.84</td>\n",
       "      <td>...</td>\n",
       "      <td>0</td>\n",
       "      <td>0</td>\n",
       "      <td>0</td>\n",
       "      <td>0</td>\n",
       "      <td>0</td>\n",
       "      <td>0</td>\n",
       "      <td>1</td>\n",
       "      <td>0</td>\n",
       "      <td>0</td>\n",
       "      <td>1</td>\n",
       "    </tr>\n",
       "    <tr>\n",
       "      <th>6</th>\n",
       "      <td>0</td>\n",
       "      <td>14.85</td>\n",
       "      <td>1</td>\n",
       "      <td>1</td>\n",
       "      <td>0</td>\n",
       "      <td>0</td>\n",
       "      <td>0</td>\n",
       "      <td>0</td>\n",
       "      <td>0</td>\n",
       "      <td>17.71</td>\n",
       "      <td>...</td>\n",
       "      <td>0</td>\n",
       "      <td>0</td>\n",
       "      <td>0</td>\n",
       "      <td>0</td>\n",
       "      <td>0</td>\n",
       "      <td>0</td>\n",
       "      <td>0</td>\n",
       "      <td>0</td>\n",
       "      <td>0</td>\n",
       "      <td>0</td>\n",
       "    </tr>\n",
       "    <tr>\n",
       "      <th>7</th>\n",
       "      <td>0</td>\n",
       "      <td>14.86</td>\n",
       "      <td>0</td>\n",
       "      <td>1</td>\n",
       "      <td>1</td>\n",
       "      <td>0</td>\n",
       "      <td>0</td>\n",
       "      <td>0</td>\n",
       "      <td>0</td>\n",
       "      <td>17.03</td>\n",
       "      <td>...</td>\n",
       "      <td>0</td>\n",
       "      <td>0</td>\n",
       "      <td>0</td>\n",
       "      <td>0</td>\n",
       "      <td>0</td>\n",
       "      <td>0</td>\n",
       "      <td>1</td>\n",
       "      <td>0</td>\n",
       "      <td>0</td>\n",
       "      <td>1</td>\n",
       "    </tr>\n",
       "    <tr>\n",
       "      <th>8</th>\n",
       "      <td>0</td>\n",
       "      <td>12.85</td>\n",
       "      <td>1</td>\n",
       "      <td>0</td>\n",
       "      <td>0</td>\n",
       "      <td>0</td>\n",
       "      <td>0</td>\n",
       "      <td>0</td>\n",
       "      <td>0</td>\n",
       "      <td>17.27</td>\n",
       "      <td>...</td>\n",
       "      <td>0</td>\n",
       "      <td>0</td>\n",
       "      <td>0</td>\n",
       "      <td>0</td>\n",
       "      <td>0</td>\n",
       "      <td>0</td>\n",
       "      <td>1</td>\n",
       "      <td>0</td>\n",
       "      <td>0</td>\n",
       "      <td>2</td>\n",
       "    </tr>\n",
       "    <tr>\n",
       "      <th>9</th>\n",
       "      <td>0</td>\n",
       "      <td>13.55</td>\n",
       "      <td>1</td>\n",
       "      <td>0</td>\n",
       "      <td>1</td>\n",
       "      <td>0</td>\n",
       "      <td>0</td>\n",
       "      <td>0</td>\n",
       "      <td>0</td>\n",
       "      <td>16.04</td>\n",
       "      <td>...</td>\n",
       "      <td>0</td>\n",
       "      <td>0</td>\n",
       "      <td>0</td>\n",
       "      <td>0</td>\n",
       "      <td>0</td>\n",
       "      <td>0</td>\n",
       "      <td>1</td>\n",
       "      <td>0</td>\n",
       "      <td>0</td>\n",
       "      <td>0</td>\n",
       "    </tr>\n",
       "    <tr>\n",
       "      <th>10</th>\n",
       "      <td>0</td>\n",
       "      <td>14.17</td>\n",
       "      <td>1</td>\n",
       "      <td>1</td>\n",
       "      <td>1</td>\n",
       "      <td>0</td>\n",
       "      <td>0</td>\n",
       "      <td>0</td>\n",
       "      <td>0</td>\n",
       "      <td>17.86</td>\n",
       "      <td>...</td>\n",
       "      <td>0</td>\n",
       "      <td>0</td>\n",
       "      <td>0</td>\n",
       "      <td>0</td>\n",
       "      <td>0</td>\n",
       "      <td>0</td>\n",
       "      <td>1</td>\n",
       "      <td>0</td>\n",
       "      <td>0</td>\n",
       "      <td>2</td>\n",
       "    </tr>\n",
       "    <tr>\n",
       "      <th>11</th>\n",
       "      <td>0</td>\n",
       "      <td>13.40</td>\n",
       "      <td>0</td>\n",
       "      <td>1</td>\n",
       "      <td>0</td>\n",
       "      <td>0</td>\n",
       "      <td>0</td>\n",
       "      <td>0</td>\n",
       "      <td>0</td>\n",
       "      <td>17.95</td>\n",
       "      <td>...</td>\n",
       "      <td>0</td>\n",
       "      <td>0</td>\n",
       "      <td>0</td>\n",
       "      <td>0</td>\n",
       "      <td>0</td>\n",
       "      <td>0</td>\n",
       "      <td>1</td>\n",
       "      <td>0</td>\n",
       "      <td>0</td>\n",
       "      <td>1</td>\n",
       "    </tr>\n",
       "    <tr>\n",
       "      <th>12</th>\n",
       "      <td>0</td>\n",
       "      <td>17.37</td>\n",
       "      <td>0</td>\n",
       "      <td>1</td>\n",
       "      <td>0</td>\n",
       "      <td>0</td>\n",
       "      <td>0</td>\n",
       "      <td>0</td>\n",
       "      <td>0</td>\n",
       "      <td>18.10</td>\n",
       "      <td>...</td>\n",
       "      <td>0</td>\n",
       "      <td>0</td>\n",
       "      <td>0</td>\n",
       "      <td>0</td>\n",
       "      <td>0</td>\n",
       "      <td>0</td>\n",
       "      <td>0</td>\n",
       "      <td>0</td>\n",
       "      <td>0</td>\n",
       "      <td>1</td>\n",
       "    </tr>\n",
       "    <tr>\n",
       "      <th>13</th>\n",
       "      <td>0</td>\n",
       "      <td>16.56</td>\n",
       "      <td>0</td>\n",
       "      <td>1</td>\n",
       "      <td>0</td>\n",
       "      <td>0</td>\n",
       "      <td>0</td>\n",
       "      <td>0</td>\n",
       "      <td>0</td>\n",
       "      <td>18.89</td>\n",
       "      <td>...</td>\n",
       "      <td>0</td>\n",
       "      <td>0</td>\n",
       "      <td>0</td>\n",
       "      <td>0</td>\n",
       "      <td>0</td>\n",
       "      <td>0</td>\n",
       "      <td>1</td>\n",
       "      <td>0</td>\n",
       "      <td>0</td>\n",
       "      <td>1</td>\n",
       "    </tr>\n",
       "    <tr>\n",
       "      <th>14</th>\n",
       "      <td>0</td>\n",
       "      <td>15.37</td>\n",
       "      <td>0</td>\n",
       "      <td>1</td>\n",
       "      <td>1</td>\n",
       "      <td>0</td>\n",
       "      <td>0</td>\n",
       "      <td>0</td>\n",
       "      <td>0</td>\n",
       "      <td>18.19</td>\n",
       "      <td>...</td>\n",
       "      <td>0</td>\n",
       "      <td>0</td>\n",
       "      <td>0</td>\n",
       "      <td>0</td>\n",
       "      <td>0</td>\n",
       "      <td>0</td>\n",
       "      <td>0</td>\n",
       "      <td>0</td>\n",
       "      <td>0</td>\n",
       "      <td>2</td>\n",
       "    </tr>\n",
       "  </tbody>\n",
       "</table>\n",
       "<p>15 rows × 21 columns</p>\n",
       "</div>"
      ],
      "text/plain": [
       "    class  cap-diameter  cap-shape  cap-surface  cap-color  \\\n",
       "0       0         15.26          0            0          0   \n",
       "1       0         16.60          0            0          0   \n",
       "2       0         14.07          0            0          0   \n",
       "3       0         14.17          1            1          1   \n",
       "4       0         14.64          0            1          0   \n",
       "5       0         15.34          0            0          0   \n",
       "6       0         14.85          1            1          0   \n",
       "7       0         14.86          0            1          1   \n",
       "8       0         12.85          1            0          0   \n",
       "9       0         13.55          1            0          1   \n",
       "10      0         14.17          1            1          1   \n",
       "11      0         13.40          0            1          0   \n",
       "12      0         17.37          0            1          0   \n",
       "13      0         16.56          0            1          0   \n",
       "14      0         15.37          0            1          1   \n",
       "\n",
       "    does-bruise-or-bleed  gill-attachment  gill-spacing  gill-color  \\\n",
       "0                      0                0             0           0   \n",
       "1                      0                0             0           0   \n",
       "2                      0                0             0           0   \n",
       "3                      0                0             0           0   \n",
       "4                      0                0             0           0   \n",
       "5                      0                0             0           0   \n",
       "6                      0                0             0           0   \n",
       "7                      0                0             0           0   \n",
       "8                      0                0             0           0   \n",
       "9                      0                0             0           0   \n",
       "10                     0                0             0           0   \n",
       "11                     0                0             0           0   \n",
       "12                     0                0             0           0   \n",
       "13                     0                0             0           0   \n",
       "14                     0                0             0           0   \n",
       "\n",
       "    stem-height  ...  stem-root  stem-surface  stem-color  veil-type  \\\n",
       "0         16.95  ...          0             0           0          0   \n",
       "1         17.99  ...          0             0           0          0   \n",
       "2         17.80  ...          0             0           0          0   \n",
       "3         15.77  ...          0             0           0          0   \n",
       "4         16.53  ...          0             0           0          0   \n",
       "5         17.84  ...          0             0           0          0   \n",
       "6         17.71  ...          0             0           0          0   \n",
       "7         17.03  ...          0             0           0          0   \n",
       "8         17.27  ...          0             0           0          0   \n",
       "9         16.04  ...          0             0           0          0   \n",
       "10        17.86  ...          0             0           0          0   \n",
       "11        17.95  ...          0             0           0          0   \n",
       "12        18.10  ...          0             0           0          0   \n",
       "13        18.89  ...          0             0           0          0   \n",
       "14        18.19  ...          0             0           0          0   \n",
       "\n",
       "    veil-color  has-ring  ring-type  spore-print-color  habitat  season  \n",
       "0            0         0          0                  0        0       0  \n",
       "1            0         0          0                  0        0       1  \n",
       "2            0         0          0                  0        0       0  \n",
       "3            0         0          1                  0        0       0  \n",
       "4            0         0          1                  0        0       0  \n",
       "5            0         0          1                  0        0       1  \n",
       "6            0         0          0                  0        0       0  \n",
       "7            0         0          1                  0        0       1  \n",
       "8            0         0          1                  0        0       2  \n",
       "9            0         0          1                  0        0       0  \n",
       "10           0         0          1                  0        0       2  \n",
       "11           0         0          1                  0        0       1  \n",
       "12           0         0          0                  0        0       1  \n",
       "13           0         0          1                  0        0       1  \n",
       "14           0         0          0                  0        0       2  \n",
       "\n",
       "[15 rows x 21 columns]"
      ]
     },
     "execution_count": 16,
     "metadata": {},
     "output_type": "execute_result"
    }
   ],
   "source": [
    "train['class'] = Bb('class','p','e')\n",
    "train['cap-shape'] =Gg('cap-shape','x', 'f', 'p' ,'b' ,'c' ,'s', 'o')\n",
    "train['cap-surface'] = Kk('cap-surface','g' ,'h', 't', 'y', 'e', 's', 'l', 'd', 'w', 'i', 'k')\n",
    "train['cap-color'] = Ll('cap-color','o' ,'e', 'n' ,'g', 'r' ,'w' ,'y', 'p' ,'u' ,'b', 'l', 'k')\n",
    "train['does-bruise-or-bleed'] = Bb('does-bruise-or-bleed','f' ,'t')\n",
    "train['gill-attachment'] = Gg('gill-attachment','e', 'a' ,'d' ,'s' ,'x' ,'p' ,'f')\n",
    "train['gill-spacing'] = Cc('gill-spacing','c', 'd', 'f')\n",
    "train['gill-color'] = Ll('gill-color','w', 'n', 'p', 'u', 'b', 'g' ,'y' ,'r' ,'e' ,'o', 'k', 'f')\n",
    "train['stem-root'] = Ee('stem-root','s' , 'b' ,'r' ,'c', 'f')\n",
    "train['stem-surface'] = Hh('stem-surface','y' ,'s', 'k' ,'i' ,'h' ,'t' ,'g' ,'f')\n",
    "train['stem-color'] = Mm('stem-color','w', 'y' ,'n' ,'u', 'b' ,'l', 'r', 'p', 'e', 'k', 'g', 'o' ,'f')\n",
    "train['veil-type'] = Aa('veil-type','u')\n",
    "train['veil-color'] = Ff('veil-color','w' ,'y','n' ,'e' ,'u','k')\n",
    "train['has-ring'] = Bb('has-ring','t','f')\n",
    "train['ring-type'] = Hh('ring-type','g', 'p' ,'e' ,'l', 'f', 'm' ,'r', 'z')\n",
    "train['spore-print-color'] = Gg('spore-print-color','k' ,'w', 'p', 'r' ,'u','n' ,'g')\n",
    "train['habitat'] = Hh('habitat','d', 'm', 'g','h' ,'l' ,'p' ,'w' ,'u')\n",
    "train['season'] = Dd('season','w', 'u' ,'a', 's')\n",
    "\n",
    "\n",
    "\n",
    "\n",
    "\n",
    "\n",
    "\n",
    "\n",
    "\n",
    "\n",
    "\n",
    "train.head(15)"
   ]
  },
  {
   "cell_type": "markdown",
   "metadata": {},
   "source": [
    "#Визуализация данных#"
   ]
  },
  {
   "cell_type": "code",
   "execution_count": 17,
   "metadata": {
    "colab": {
     "base_uri": "https://localhost:8080/",
     "height": 475
    },
    "id": "TvqUGOpIeLZh",
    "outputId": "841b9dff-5fad-4742-9da9-0129cd7f81f3"
   },
   "outputs": [
    {
     "data": {
      "image/png": "[encoded data removed]",
      "text/plain": [
       "<Figure size 640x480 with 1 Axes>"
      ]
     },
     "metadata": {},
     "output_type": "display_data"
    }
   ],
   "source": [
    "sns.countplot(data=train, x=\"class\", hue='season');"
   ]
  },
  {
   "cell_type": "code",
   "execution_count": 18,
   "metadata": {},
   "outputs": [
    {
     "name": "stdout",
     "output_type": "stream",
     "text": [
      "Съедобные грибы\n",
      "Весна = 2071\n",
      "Лето = 13251\n",
      "Осень = 17392\n",
      "Зима = 1174\n"
     ]
    }
   ],
   "source": [
    "v = train[(train[\"season\"] == 0 ) & (train[\"class\"] == 0)]\n",
    "l = train[(train[\"season\"] == 1 ) & (train[\"class\"] == 0)]\n",
    "o = train[(train[\"season\"] == 2 ) & (train[\"class\"] == 0)]\n",
    "z = train[(train[\"season\"] == 3 ) & (train[\"class\"] == 0)]\n",
    "print('Съедобные грибы')\n",
    "print(f'Весна = {len(v.season)}')\n",
    "print(f'Лето = {len(l.season)}')\n",
    "print(f'Осень = {len(o.season)}')\n",
    "print(f'Зима = {len(z.season)}')"
   ]
  },
  {
   "cell_type": "code",
   "execution_count": 19,
   "metadata": {
    "colab": {
     "base_uri": "https://localhost:8080/",
     "height": 178
    },
    "id": "cz2d-z1le5XB",
    "outputId": "48d6d369-d09f-40cc-948d-b29ea10659a6"
   },
   "outputs": [
    {
     "data": {
      "text/plain": [
       "class\n",
       "0    33888\n",
       "1    27181\n",
       "Name: count, dtype: int64"
      ]
     },
     "execution_count": 19,
     "metadata": {},
     "output_type": "execute_result"
    }
   ],
   "source": [
    "train['class'].value_counts()"
   ]
  },
  {
   "cell_type": "markdown",
   "metadata": {},
   "source": [
    "Съедобных грибов 33888, ядовитых 27181 "
   ]
  },
  {
   "cell_type": "markdown",
   "metadata": {},
   "source": [
    "#Визуализация параметра Класс#"
   ]
  },
  {
   "cell_type": "code",
   "execution_count": 20,
   "metadata": {
    "colab": {
     "base_uri": "https://localhost:8080/",
     "height": 406
    },
    "id": "Rpzbea5Qe5rB",
    "outputId": "56eed72f-502a-4eb9-a143-c52ea9869839"
   },
   "outputs": [
    {
     "data": {
      "image/png": "[encoded data removed]",
      "text/plain": [
       "<Figure size 640x480 with 1 Axes>"
      ]
     },
     "metadata": {},
     "output_type": "display_data"
    }
   ],
   "source": [
    "data = [33888, \t27181]\n",
    "labels = ['poisonous', 'edibile']\n",
    "\n",
    "plt.pie(data, labels = labels, autopct='%.0f%%')\n",
    "plt.show()"
   ]
  },
  {
   "cell_type": "code",
   "execution_count": 21,
   "metadata": {},
   "outputs": [
    {
     "data": {
      "text/plain": [
       "(array([33888.,     0.,     0.,     0.,     0.,     0.,     0.,     0.,\n",
       "            0., 27181.]),\n",
       " array([0. , 0.1, 0.2, 0.3, 0.4, 0.5, 0.6, 0.7, 0.8, 0.9, 1. ]),\n",
       " <BarContainer object of 10 artists>)"
      ]
     },
     "execution_count": 21,
     "metadata": {},
     "output_type": "execute_result"
    },
    {
     "data": {
      "image/png": "[encoded data removed]",
      "text/plain": [
       "<Figure size 640x480 with 1 Axes>"
      ]
     },
     "metadata": {},
     "output_type": "display_data"
    }
   ],
   "source": [
    "plt.hist(train['class'])"
   ]
  },
  {
   "cell_type": "markdown",
   "metadata": {},
   "source": [
    "#Визуализация параметра Цвет шапки#"
   ]
  },
  {
   "cell_type": "code",
   "execution_count": 23,
   "metadata": {
    "colab": {
     "base_uri": "https://localhost:8080/",
     "height": 475
    },
    "id": "F_hG78jMe5yg",
    "outputId": "fbe8e7ad-7866-4b28-d062-c13714bff770"
   },
   "outputs": [
    {
     "name": "stderr",
     "output_type": "stream",
     "text": [
      "C:\\Users\\User\\AppData\\Local\\Temp\\ipykernel_7404\\1551696414.py:1: FutureWarning: \n",
      "\n",
      "Passing `palette` without assigning `hue` is deprecated and will be removed in v0.14.0. Assign the `x` variable to `hue` and set `legend=False` for the same effect.\n",
      "\n",
      "  sns.countplot(x=train[\"cap-color\"], palette='viridis')\n"
     ]
    },
    {
     "data": {
      "text/plain": [
       "<Axes: xlabel='cap-color', ylabel='count'>"
      ]
     },
     "execution_count": 23,
     "metadata": {},
     "output_type": "execute_result"
    },
    {
     "data": {
      "image/png": "[encoded data removed]",
      "text/plain": [
       "<Figure size 640x480 with 1 Axes>"
      ]
     },
     "metadata": {},
     "output_type": "display_data"
    }
   ],
   "source": [
    "\n",
    "sns.countplot(x=train[\"cap-color\"], palette='viridis')\n"
   ]
  },
  {
   "cell_type": "code",
   "execution_count": 29,
   "metadata": {
    "colab": {
     "base_uri": "https://localhost:8080/",
     "height": 406
    },
    "id": "OVULtQF0ntuT",
    "outputId": "e26d829d-cfbb-4698-9104-beee9b8c6655"
   },
   "outputs": [
    {
     "data": {
      "image/png": "[encoded data removed]",
      "text/plain": [
       "<Figure size 640x480 with 1 Axes>"
      ]
     },
     "metadata": {},
     "output_type": "display_data"
    }
   ],
   "source": [
    "\n",
    "\n",
    "plt.pie(train['cap-color'].value_counts().tolist(), autopct='%.0f%%')\n",
    "plt.show()"
   ]
  },
  {
   "cell_type": "markdown",
   "metadata": {},
   "source": [
    "40% грибы с коричневой шляпкой"
   ]
  },
  {
   "cell_type": "code",
   "execution_count": 26,
   "metadata": {
    "colab": {
     "base_uri": "https://localhost:8080/",
     "height": 475
    },
    "id": "KAYM-0YxpOFs",
    "outputId": "075cbe62-2482-43aa-967f-7df495977fd1"
   },
   "outputs": [
    {
     "data": {
      "text/plain": [
       "<Axes: xlabel='class', ylabel='count'>"
      ]
     },
     "execution_count": 26,
     "metadata": {},
     "output_type": "execute_result"
    },
    {
     "data": {
      "image/png": "[encoded data removed]",
      "text/plain": [
       "<Figure size 640x480 with 1 Axes>"
      ]
     },
     "metadata": {},
     "output_type": "display_data"
    }
   ],
   "source": [
    "sns.countplot(data=train, x=\"class\", hue='cap-color')"
   ]
  },
  {
   "cell_type": "markdown",
   "metadata": {},
   "source": [
    "Съедобных грабов коричневых меньше чем ядовитых, зато черных больше"
   ]
  },
  {
   "cell_type": "markdown",
   "metadata": {},
   "source": [
    "#Визуализация параметра диаметр колпачка#"
   ]
  },
  {
   "cell_type": "code",
   "execution_count": 24,
   "metadata": {
    "colab": {
     "base_uri": "https://localhost:8080/",
     "height": 530
    },
    "id": "ZHEpT95SqE2b",
    "outputId": "dca31f97-0c0a-4422-9cb9-b2f417e55a01"
   },
   "outputs": [
    {
     "data": {
      "image/png": "[encoded data removed]",
      "text/plain": [
       "<Figure size 640x480 with 1 Axes>"
      ]
     },
     "metadata": {},
     "output_type": "display_data"
    }
   ],
   "source": [
    "train[\"cap-diameter_group\"] = pd.cut(x=train['cap-diameter'], bins=[0.00, 1.00, 2.00, 3.00, 4.00, 5.00, 6.00, 7.00, 8.00, 9.00, 10.00, 11.00, 12.00, 13.00, 14.00, 15.00, 16.00, 17.00, 18.00, 19.00, 20.00])\n",
    "plt.xticks(rotation=65)\n",
    "sns.countplot(data=train, hue='class', x='cap-diameter_group');"
   ]
  },
  {
   "cell_type": "markdown",
   "metadata": {},
   "source": [
    "Наибольшее число съедобных грибов находятся в диапазоне 3-4 см, очень мало 19-20 см.\n",
    "Наибольшее число ядовитых грибов 6-7 см, мало 19-20 см.\n",
    "Также можно сделать вывод о том, что вероятность найти съедобный гриб в доиапазоне 2-3 см наболее высока, по сравнению с дургими размерами "
   ]
  },
  {
   "cell_type": "markdown",
   "metadata": {},
   "source": [
    "#Визуализация параметра среда обитания#"
   ]
  },
  {
   "cell_type": "code",
   "execution_count": 31,
   "metadata": {
    "colab": {
     "base_uri": "https://localhost:8080/",
     "height": 458
    },
    "id": "9Wg1KFaUt-Ot",
    "outputId": "7b42f90b-3afc-44ed-c778-a0467ab10126"
   },
   "outputs": [
    {
     "data": {
      "text/plain": [
       "<Axes: xlabel='class', ylabel='count'>"
      ]
     },
     "execution_count": 31,
     "metadata": {},
     "output_type": "execute_result"
    },
    {
     "data": {
      "image/png": "[encoded data removed]",
      "text/plain": [
       "<Figure size 640x480 with 1 Axes>"
      ]
     },
     "metadata": {},
     "output_type": "display_data"
    }
   ],
   "source": [
    "sns.countplot(data=train, x=\"class\", hue='habitat') # леса=d, луга = m, травы = g, ересковые пустоши = h, листья = l, тропинки = p, отходы=w, городской=u"
   ]
  },
  {
   "cell_type": "markdown",
   "metadata": {},
   "source": [
    "Можно сделать вывод, что съедобные грибы чаще всего находятся в лесах, а также в траве. Причем вероятность встретить ядовитые грибы также примерно равны как и съедобные "
   ]
  },
  {
   "cell_type": "markdown",
   "metadata": {},
   "source": [
    "#Тепловая карта#"
   ]
  },
  {
   "cell_type": "code",
   "execution_count": 32,
   "metadata": {},
   "outputs": [
    {
     "data": {
      "image/png": "[encoded data removed]",
      "text/plain": [
       "<Figure size 640x480 with 2 Axes>"
      ]
     },
     "metadata": {},
     "output_type": "display_data"
    }
   ],
   "source": [
    "sns.heatmap(train.corr(numeric_only = True));"
   ]
  },
  {
   "cell_type": "markdown",
   "metadata": {},
   "source": [
    "Изменений почти нет , сравнивая veil-type с остальными признаками\n",
    "Можно увидеть, что сильные изменения находятся по stem-root и class"
   ]
  },
  {
   "cell_type": "code",
   "execution_count": null,
   "metadata": {},
   "outputs": [],
   "source": []
  }
 ],
 "metadata": {
  "colab": {
   "provenance": [],
   "toc_visible": true
  },
  "kernelspec": {
   "display_name": "Python 3 (ipykernel)",
   "language": "python",
   "name": "python3"
  },
  "language_info": {
   "codemirror_mode": {
    "name": "ipython",
    "version": 3
   },
   "file_extension": ".py",
   "mimetype": "text/x-python",
   "name": "python",
   "nbconvert_exporter": "python",
   "pygments_lexer": "ipython3",
   "version": "3.12.6"
  }
 },
 "nbformat": 4,
 "nbformat_minor": 4
}
